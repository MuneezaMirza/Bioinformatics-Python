{
  "nbformat": 4,
  "nbformat_minor": 0,
  "metadata": {
    "colab": {
      "provenance": []
    },
    "kernelspec": {
      "name": "python3",
      "display_name": "Python 3"
    },
    "language_info": {
      "name": "python"
    }
  },
  "cells": [
    {
      "cell_type": "markdown",
      "source": [
        "Genbank file can be downloaded via NCBI website. Click send at the top right corner, from drop down menu select\n",
        "\"Complete Record\". In choose destination select \"File\", keep the format Genbank and create the file."
      ],
      "metadata": {
        "id": "pJhM_bSpEC2b"
      }
    },
    {
      "cell_type": "code",
      "execution_count": 1,
      "metadata": {
        "colab": {
          "base_uri": "https://localhost:8080/"
        },
        "id": "E6xvTbXkCjTs",
        "outputId": "86378919-98d4-4bee-e23a-440a1faea6a3"
      },
      "outputs": [
        {
          "output_type": "stream",
          "name": "stdout",
          "text": [
            "Collecting biopython\n",
            "  Downloading biopython-1.85-cp311-cp311-manylinux_2_17_x86_64.manylinux2014_x86_64.whl.metadata (13 kB)\n",
            "Requirement already satisfied: numpy in /usr/local/lib/python3.11/dist-packages (from biopython) (1.26.4)\n",
            "Downloading biopython-1.85-cp311-cp311-manylinux_2_17_x86_64.manylinux2014_x86_64.whl (3.3 MB)\n",
            "\u001b[2K   \u001b[90m━━━━━━━━━━━━━━━━━━━━━━━━━━━━━━━━━━━━━━━━\u001b[0m \u001b[32m3.3/3.3 MB\u001b[0m \u001b[31m30.2 MB/s\u001b[0m eta \u001b[36m0:00:00\u001b[0m\n",
            "\u001b[?25hInstalling collected packages: biopython\n",
            "Successfully installed biopython-1.85\n"
          ]
        }
      ],
      "source": [
        "pip install biopython"
      ]
    },
    {
      "cell_type": "code",
      "source": [
        "import Bio\n",
        "from Bio import SeqIO"
      ],
      "metadata": {
        "id": "Yc_a0G8ODH7-"
      },
      "execution_count": 3,
      "outputs": []
    },
    {
      "cell_type": "code",
      "source": [
        "genbank_file = \"sequence.gb\""
      ],
      "metadata": {
        "id": "5Wrte6oMDNcN"
      },
      "execution_count": 4,
      "outputs": []
    },
    {
      "cell_type": "code",
      "source": [
        "for record in SeqIO.parse(genbank_file, \"genbank\"):\n",
        "  print(f\"ID: {record.id}\")"
      ],
      "metadata": {
        "colab": {
          "base_uri": "https://localhost:8080/"
        },
        "id": "iPjJQRtwDa-C",
        "outputId": "7d637f29-27b5-4fde-cd7a-333389e4cc26"
      },
      "execution_count": 7,
      "outputs": [
        {
          "output_type": "stream",
          "name": "stdout",
          "text": [
            "ID: JQ811934.1\n"
          ]
        }
      ]
    },
    {
      "cell_type": "code",
      "source": [
        "print(f\"Sequence Length: {len(record.seq)}\")"
      ],
      "metadata": {
        "colab": {
          "base_uri": "https://localhost:8080/"
        },
        "id": "F4OlI3OVDsp9",
        "outputId": "a9720a61-dd99-4596-ea0d-9e914fe88c86"
      },
      "execution_count": 8,
      "outputs": [
        {
          "output_type": "stream",
          "name": "stdout",
          "text": [
            "Sequence Length: 824\n"
          ]
        }
      ]
    },
    {
      "cell_type": "code",
      "source": [
        "print(f\"Annotations: {record.annotations}\")"
      ],
      "metadata": {
        "colab": {
          "base_uri": "https://localhost:8080/"
        },
        "id": "UgBF8m3FDxuv",
        "outputId": "99ba809f-74f5-4f24-9a4f-84db4397b498"
      },
      "execution_count": 9,
      "outputs": [
        {
          "output_type": "stream",
          "name": "stdout",
          "text": [
            "Annotations: {'molecule_type': 'DNA', 'topology': 'linear', 'data_file_division': 'PRI', 'date': '07-AUG-2012', 'accessions': ['JQ811934'], 'sequence_version': 1, 'gi': '383087990', 'keywords': [''], 'source': 'Homo sapiens (human)', 'organism': 'Homo sapiens', 'taxonomy': ['Eukaryota', 'Metazoa', 'Chordata', 'Craniata', 'Vertebrata', 'Euteleostomi', 'Mammalia', 'Eutheria', 'Euarchontoglires', 'Primates', 'Haplorrhini', 'Catarrhini', 'Hominidae', 'Homo'], 'references': [Reference(title='Organizational and Functional Status of the Y-linked Genes and Loci in the Infertile Patients Having Normal Spermiogram', ...), Reference(title='Sry', ...), Reference(title='Direct Submission', ...)]}\n"
          ]
        }
      ]
    }
  ]
}